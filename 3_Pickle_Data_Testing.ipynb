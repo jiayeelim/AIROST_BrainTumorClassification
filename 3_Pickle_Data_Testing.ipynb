{
  "nbformat": 4,
  "nbformat_minor": 0,
  "metadata": {
    "colab": {
      "provenance": [],
      "authorship_tag": "ABX9TyPLNzji6WORtZ6iGaCK8Gbs",
      "include_colab_link": true
    },
    "kernelspec": {
      "name": "python3",
      "display_name": "Python 3"
    },
    "language_info": {
      "name": "python"
    }
  },
  "cells": [
    {
      "cell_type": "markdown",
      "metadata": {
        "id": "view-in-github",
        "colab_type": "text"
      },
      "source": [
        "<a href=\"https://colab.research.google.com/github/jiayeelim/AIROST_BrainTumorClassification/blob/main/3_Pickle_Data_Testing.ipynb\" target=\"_parent\"><img src=\"https://colab.research.google.com/assets/colab-badge.svg\" alt=\"Open In Colab\"/></a>"
      ]
    },
    {
      "cell_type": "code",
      "execution_count": null,
      "metadata": {
        "id": "bpvEJGCXMSJx"
      },
      "outputs": [],
      "source": [
        "import os\n",
        "from PIL import Image\n",
        "import numpy as np\n",
        "import pandas as pd\n",
        "import cv2\n",
        "import matplotlib.pyplot as plt\n",
        "from tqdm import tqdm\n",
        "import random\n"
      ]
    },
    {
      "cell_type": "code",
      "source": [
        "from google.colab import drive\n",
        "drive.mount('/content/gdrive')"
      ],
      "metadata": {
        "colab": {
          "base_uri": "https://localhost:8080/"
        },
        "id": "iPxcMybDMVSQ",
        "outputId": "864c2b8c-a29d-408c-efef-06905c5b9d95"
      },
      "execution_count": null,
      "outputs": [
        {
          "output_type": "stream",
          "name": "stdout",
          "text": [
            "Mounted at /content/gdrive\n"
          ]
        }
      ]
    },
    {
      "cell_type": "markdown",
      "source": [
        "For Testing Data"
      ],
      "metadata": {
        "id": "gMFNav3_FmfL"
      }
    },
    {
      "cell_type": "code",
      "source": [
        "TEST_DIR = '/content/gdrive/My Drive/AIROST/Dataset/Testing' # test data folder\n",
        "TRAIN_DIR = '/content/gdrive/My Drive/AIROST/Dataset/Training' # train data folder\n",
        "IMG_SIZE = 150 # image size\n",
        "CATEGORIES = [\"Test-glioma-output\",\"Test-meningioma-output\",\"Test-no_tumor-output\",\"Test-pituitary-output\"] #\"Train-glioma-output\","
      ],
      "metadata": {
        "id": "ny5nEE2dMZDq"
      },
      "execution_count": null,
      "outputs": []
    },
    {
      "cell_type": "code",
      "source": [
        "testing_data = []\n",
        "\n",
        "def create_testing_data():\n",
        "    for category in CATEGORIES:\n",
        "\n",
        "        path = os.path.join(TEST_DIR,category)  # create path\n",
        "        class_num = CATEGORIES.index(category)  # get the classification\n",
        "\n",
        "        for img in tqdm(os.listdir(path)):\n",
        "          # iterate over each image per dogs and cats\n",
        "          img_array = cv2.imread(os.path.join(path,img) ,cv2.IMREAD_COLOR)  # convert to array\n",
        "          new_array = cv2.resize(img_array, (IMG_SIZE, IMG_SIZE))  # resize to normalize data size\n",
        "          testing_data.append([new_array, class_num])  # add this to our training_data\n",
        "\n",
        "    random.shuffle(testing_data)\n",
        "   # np.save('test_data.npy', testing_data)\n",
        "\n",
        "create_testing_data()\n",
        "np.save('/content/gdrive/My Drive/AIROST/Dataset/test_data.npy', testing_data)\n",
        "print(len(testing_data))\n",
        "\n",
        "print(\"train\")\n",
        "print()\n",
        "X_test = np.array([i[0] for i in testing_data]).reshape(-1,IMG_SIZE,IMG_SIZE,3)\n",
        "Y_test = [i[1] for i in testing_data]\n",
        "\n",
        "import pickle\n",
        "\n",
        "pickle_out = open(\"/content/gdrive/My Drive/AIROST/Dataset/X_test.pickle\",\"wb\")\n",
        "pickle.dump(X_test, pickle_out)\n",
        "pickle_out.close()\n",
        "\n"
      ],
      "metadata": {
        "colab": {
          "base_uri": "https://localhost:8080/"
        },
        "id": "1IIqzMC3MkVB",
        "outputId": "3e024a3e-6752-42ec-b47d-e0f4d3a42305"
      },
      "execution_count": null,
      "outputs": [
        {
          "output_type": "stream",
          "name": "stderr",
          "text": [
            "100%|██████████| 2098/2098 [00:07<00:00, 280.07it/s]\n",
            "100%|██████████| 2412/2412 [00:08<00:00, 273.83it/s]\n",
            "100%|██████████| 2204/2204 [00:07<00:00, 289.06it/s]\n",
            "100%|██████████| 1552/1552 [00:05<00:00, 268.23it/s]\n"
          ]
        },
        {
          "output_type": "stream",
          "name": "stdout",
          "text": [
            "8266\n",
            "train\n",
            "\n"
          ]
        }
      ]
    },
    {
      "cell_type": "code",
      "source": [
        "pickle_out = open(\"/content/gdrive/My Drive/AIROST/Dataset/Y_test.pickle\",\"wb\")\n",
        "pickle.dump(Y_test, pickle_out)\n",
        "pickle_out.close()"
      ],
      "metadata": {
        "id": "fw0q0GydMyJx"
      },
      "execution_count": null,
      "outputs": []
    },
    {
      "cell_type": "markdown",
      "source": [
        "Retry Using Original Data <br>\n",
        "Exclude Augmented Data"
      ],
      "metadata": {
        "id": "XjDJwREdCWng"
      }
    },
    {
      "cell_type": "code",
      "source": [
        "import os\n",
        "from PIL import Image\n",
        "import numpy as np\n",
        "import pandas as pd\n",
        "import cv2\n",
        "import matplotlib.pyplot as plt\n",
        "from tqdm import tqdm\n",
        "import random"
      ],
      "metadata": {
        "id": "PI9dVuUdCV3g"
      },
      "execution_count": null,
      "outputs": []
    },
    {
      "cell_type": "code",
      "source": [
        "from google.colab import drive\n",
        "drive.mount('/content/gdrive')"
      ],
      "metadata": {
        "colab": {
          "base_uri": "https://localhost:8080/"
        },
        "id": "aWZKkbjbCnnl",
        "outputId": "85ec0d68-9eab-4953-f918-d37fce64b189"
      },
      "execution_count": null,
      "outputs": [
        {
          "output_type": "stream",
          "name": "stdout",
          "text": [
            "Mounted at /content/gdrive\n"
          ]
        }
      ]
    },
    {
      "cell_type": "code",
      "source": [
        "TEST_DIR = '/content/gdrive/My Drive/AIROST/Dataset/Testing' # test data folder\n",
        "TRAIN_DIR = '/content/gdrive/My Drive/AIROST/Dataset/Training' # train data folder\n",
        "IMG_SIZE = 150 # image size\n",
        "CATEGORIES = [\"glioma_tumor\",\"meningioma_tumor\",\"no_tumor\",\"pituitary_tumor\"] #\"Train-glioma-output\","
      ],
      "metadata": {
        "id": "7xtQwUMiCnqS"
      },
      "execution_count": null,
      "outputs": []
    },
    {
      "cell_type": "code",
      "source": [
        "testing_data = []\n",
        "\n",
        "def create_testing_data():\n",
        "    for category in CATEGORIES:\n",
        "\n",
        "        path = os.path.join(TEST_DIR,category)  # create path\n",
        "        class_num = CATEGORIES.index(category)  # get the classification\n",
        "\n",
        "        for img in tqdm(os.listdir(path)):\n",
        "          # iterate over each image per dogs and cats\n",
        "          img_array = cv2.imread(os.path.join(path,img) ,cv2.IMREAD_COLOR)  # convert to array\n",
        "          new_array = cv2.resize(img_array, (IMG_SIZE, IMG_SIZE))  # resize to normalize data size\n",
        "          testing_data.append([new_array, class_num])  # add this to our training_data\n",
        "\n",
        "    random.shuffle(testing_data)\n",
        "   # np.save('test_data.npy', testing_data)\n",
        "\n",
        "create_testing_data()\n",
        "np.save('/content/gdrive/My Drive/AIROST/Dataset/test_data_new.npy', testing_data)\n",
        "print(len(testing_data))\n",
        "\n",
        "print(\"train\")\n",
        "print()\n",
        "X_test = np.array([i[0] for i in testing_data]).reshape(-1,IMG_SIZE,IMG_SIZE,3)\n",
        "Y_test = [i[1] for i in testing_data]\n",
        "\n",
        "import pickle\n",
        "\n",
        "pickle_out = open(\"/content/gdrive/My Drive/AIROST/Dataset/X_test_new.pickle\",\"wb\")\n",
        "pickle.dump(X_test, pickle_out)\n",
        "pickle_out.close()\n",
        "\n",
        "pickle_out = open(\"/content/gdrive/My Drive/AIROST/Dataset/Y_test_new.pickle\",\"wb\")\n",
        "pickle.dump(Y_test, pickle_out)\n",
        "pickle_out.close()"
      ],
      "metadata": {
        "colab": {
          "base_uri": "https://localhost:8080/"
        },
        "id": "YUI_lC76CntK",
        "outputId": "da9b0200-a05a-4516-bb11-4b4b02095576"
      },
      "execution_count": null,
      "outputs": [
        {
          "output_type": "stream",
          "name": "stderr",
          "text": [
            "100%|██████████| 100/100 [00:04<00:00, 22.99it/s]\n",
            "100%|██████████| 115/115 [00:04<00:00, 26.37it/s]\n",
            "100%|██████████| 105/105 [00:04<00:00, 26.02it/s]\n",
            "100%|██████████| 74/74 [00:56<00:00,  1.30it/s]\n",
            "/usr/local/lib/python3.10/dist-packages/numpy/lib/npyio.py:521: VisibleDeprecationWarning: Creating an ndarray from ragged nested sequences (which is a list-or-tuple of lists-or-tuples-or ndarrays with different lengths or shapes) is deprecated. If you meant to do this, you must specify 'dtype=object' when creating the ndarray.\n",
            "  arr = np.asanyarray(arr)\n"
          ]
        },
        {
          "output_type": "stream",
          "name": "stdout",
          "text": [
            "394\n",
            "train\n",
            "\n"
          ]
        }
      ]
    }
  ]
}